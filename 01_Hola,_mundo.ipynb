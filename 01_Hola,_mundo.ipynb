{
  "nbformat": 4,
  "nbformat_minor": 0,
  "metadata": {
    "colab": {
      "name": "01 - Hola, mundo.ipynb",
      "provenance": [],
      "collapsed_sections": [],
      "toc_visible": true,
      "include_colab_link": true
    },
    "kernelspec": {
      "name": "python3",
      "display_name": "Python 3"
    }
  },
  "cells": [
    {
      "cell_type": "markdown",
      "metadata": {
        "id": "view-in-github",
        "colab_type": "text"
      },
      "source": [
        "<a href=\"https://colab.research.google.com/github/magarciaperez/CloudComparer/blob/master/01_Hola%2C_mundo.ipynb\" target=\"_parent\"><img src=\"https://colab.research.google.com/assets/colab-badge.svg\" alt=\"Open In Colab\"/></a>"
      ]
    },
    {
      "cell_type": "markdown",
      "metadata": {
        "id": "eJVjMw6_yeW-",
        "colab_type": "text"
      },
      "source": [
        "# Hola, mundo\n",
        "\n",
        "Hacer un programa que pida el nombre y te salude por tu nombre\n",
        "\n",
        "## Restricciones\n",
        "\n",
        "Mantener entrada, salida y concatenación separados"
      ]
    },
    {
      "cell_type": "markdown",
      "metadata": {
        "id": "6R8nDlnNQJka",
        "colab_type": "text"
      },
      "source": [
        "# Nueva sección"
      ]
    },
    {
      "cell_type": "markdown",
      "metadata": {
        "id": "tM2W12HazHCX",
        "colab_type": "text"
      },
      "source": [
        "## Retos\n",
        "\n",
        "1. Escribir el programa sin usar variables\n",
        "2. Escribir un programa que devuelva diferentes tipos de saludos a diferentes tipos de persona.\n"
      ]
    }
  ]
}