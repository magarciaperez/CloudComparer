{
  "nbformat": 4,
  "nbformat_minor": 0,
  "metadata": {
    "colab": {
      "name": "0. Intro.ipynb",
      "provenance": [],
      "toc_visible": true,
      "include_colab_link": true
    },
    "kernelspec": {
      "name": "python3",
      "display_name": "Python 3"
    }
  },
  "cells": [
    {
      "cell_type": "markdown",
      "metadata": {
        "id": "view-in-github",
        "colab_type": "text"
      },
      "source": [
        "<a href=\"https://colab.research.google.com/github/magarciaperez/CloudComparer/blob/master/0_Intro.ipynb\" target=\"_parent\"><img src=\"https://colab.research.google.com/assets/colab-badge.svg\" alt=\"Open In Colab\"/></a>"
      ]
    },
    {
      "cell_type": "markdown",
      "metadata": {
        "id": "fg3sG-opQeH5",
        "colab_type": "text"
      },
      "source": [
        "# Aplicaciones de práctica del Módulo 02\n",
        "\n",
        "Vamos a desarrollar y explicar los siguientes ejemplos de pequeñas aplicaciones utilizando la programación avanzada que ya conocemos.\n",
        "\n",
        "<img src=\"https://docs.google.com/uc?export=download&id=1k28kH9Wy1UG7PVOoWyUT8yMVyZsTKMNN\" height=\"400\">\n",
        "\n",
        "- Carrera de Tortugas\n",
        "- Pygame. Carrera de Objetos\n",
        "  - Desplazar un objeto con el teclado\n",
        "  - Animar un objeto con pygame\n",
        "  - Desplazar y animar\n",
        "- Termometro con pygame\n",
        "- Termometro con tkinter\n",
        "  - Conversor de temperaturas con Tkinter\n",
        "  - Conversor de monedas con Tkinter y APIs\n",
        "  - Calculadora con Tkinter\n",
        "  - Recetas con Tkinter y &API\n"
      ]
    },
    {
      "cell_type": "code",
      "metadata": {
        "id": "x3aQSAbaQdSS",
        "colab_type": "code",
        "colab": {}
      },
      "source": [
        ""
      ],
      "execution_count": 0,
      "outputs": []
    }
  ]
}